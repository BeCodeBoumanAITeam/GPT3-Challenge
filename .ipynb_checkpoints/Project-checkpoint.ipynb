{
 "cells": [
  {
   "cell_type": "code",
   "execution_count": 115,
   "metadata": {},
   "outputs": [
    {
     "name": "stdout",
     "output_type": "stream",
     "text": [
      "The nb_black extension is already loaded. To reload it, use:\n",
      "  %reload_ext nb_black\n"
     ]
    },
    {
     "data": {
      "application/javascript": [
       "\n",
       "            setTimeout(function() {\n",
       "                var nbb_cell_id = 115;\n",
       "                var nbb_unformatted_code = \"%load_ext nb_black\\nimport pandas as pd\\nimport numpy as np\";\n",
       "                var nbb_formatted_code = \"%load_ext nb_black\\nimport pandas as pd\\nimport numpy as np\";\n",
       "                var nbb_cells = Jupyter.notebook.get_cells();\n",
       "                for (var i = 0; i < nbb_cells.length; ++i) {\n",
       "                    if (nbb_cells[i].input_prompt_number == nbb_cell_id) {\n",
       "                        if (nbb_cells[i].get_text() == nbb_unformatted_code) {\n",
       "                             nbb_cells[i].set_text(nbb_formatted_code);\n",
       "                        }\n",
       "                        break;\n",
       "                    }\n",
       "                }\n",
       "            }, 500);\n",
       "            "
      ],
      "text/plain": [
       "<IPython.core.display.Javascript object>"
      ]
     },
     "metadata": {},
     "output_type": "display_data"
    }
   ],
   "source": [
    "%load_ext nb_black\n",
    "import pandas as pd\n",
    "import numpy as np"
   ]
  },
  {
   "cell_type": "code",
   "execution_count": 116,
   "metadata": {},
   "outputs": [
    {
     "name": "stdout",
     "output_type": "stream",
     "text": [
      "<class 'pandas.core.frame.DataFrame'>\n",
      "RangeIndex: 87480 entries, 0 to 87479\n",
      "Data columns (total 22 columns):\n",
      " #   Column              Non-Null Count  Dtype  \n",
      "---  ------              --------------  -----  \n",
      " 0   source              87455 non-null  float64\n",
      " 1   hyperlink           71511 non-null  object \n",
      " 2   locality            75899 non-null  object \n",
      " 3   postcode            80043 non-null  float64\n",
      " 4   house_is            87480 non-null  bool   \n",
      " 5   property_subtype    87480 non-null  object \n",
      " 6   price               85984 non-null  object \n",
      " 7   sale                37414 non-null  object \n",
      " 8   rooms_number        86106 non-null  object \n",
      " 9   area                83953 non-null  object \n",
      " 10  kitchen_has         81367 non-null  object \n",
      " 11  furnished           76977 non-null  object \n",
      " 12  open_fire           70030 non-null  object \n",
      " 13  terrace             61138 non-null  object \n",
      " 14  terrace_area        76187 non-null  object \n",
      " 15  garden              79000 non-null  object \n",
      " 16  garden_area         70365 non-null  object \n",
      " 17  land_surface        64006 non-null  object \n",
      " 18  land_plot_surface   63206 non-null  object \n",
      " 19  facades_number      77999 non-null  object \n",
      " 20  swimming_pool_has   66806 non-null  object \n",
      " 21  building_state      56301 non-null  object \n",
      "dtypes: bool(1), float64(2), object(19)\n",
      "memory usage: 14.1+ MB\n"
     ]
    },
    {
     "name": "stderr",
     "output_type": "stream",
     "text": [
      "/home/sara/.local/lib/python3.6/site-packages/IPython/core/interactiveshell.py:3263: DtypeWarning: Columns (9,11,12,17,18,19) have mixed types.Specify dtype option on import or set low_memory=False.\n",
      "  if (await self.run_code(code, result,  async_=asy)):\n"
     ]
    },
    {
     "data": {
      "text/plain": [
       "(87480, 22)"
      ]
     },
     "execution_count": 116,
     "metadata": {},
     "output_type": "execute_result"
    },
    {
     "data": {
      "application/javascript": [
       "\n",
       "            setTimeout(function() {\n",
       "                var nbb_cell_id = 116;\n",
       "                var nbb_unformatted_code = \"data = \\\"datasets/challenge_dataset\\\"\\ndf = pd.read_table(data, sep=\\\",\\\")\\n\\ndf.info()\\ndf.shape # (87480, 22)\";\n",
       "                var nbb_formatted_code = \"data = \\\"datasets/challenge_dataset\\\"\\ndf = pd.read_table(data, sep=\\\",\\\")\\n\\ndf.info()\\ndf.shape  # (87480, 22)\";\n",
       "                var nbb_cells = Jupyter.notebook.get_cells();\n",
       "                for (var i = 0; i < nbb_cells.length; ++i) {\n",
       "                    if (nbb_cells[i].input_prompt_number == nbb_cell_id) {\n",
       "                        if (nbb_cells[i].get_text() == nbb_unformatted_code) {\n",
       "                             nbb_cells[i].set_text(nbb_formatted_code);\n",
       "                        }\n",
       "                        break;\n",
       "                    }\n",
       "                }\n",
       "            }, 500);\n",
       "            "
      ],
      "text/plain": [
       "<IPython.core.display.Javascript object>"
      ]
     },
     "metadata": {},
     "output_type": "display_data"
    }
   ],
   "source": [
    "data = \"datasets/challenge_dataset\"\n",
    "df = pd.read_table(data, sep=\",\")\n",
    "\n",
    "df.info()\n",
    "df.shape  # (87480, 22)"
   ]
  },
  {
   "cell_type": "code",
   "execution_count": 91,
   "metadata": {},
   "outputs": [
    {
     "data": {
      "text/html": [
       "<div>\n",
       "<style scoped>\n",
       "    .dataframe tbody tr th:only-of-type {\n",
       "        vertical-align: middle;\n",
       "    }\n",
       "\n",
       "    .dataframe tbody tr th {\n",
       "        vertical-align: top;\n",
       "    }\n",
       "\n",
       "    .dataframe thead th {\n",
       "        text-align: right;\n",
       "    }\n",
       "</style>\n",
       "<table border=\"1\" class=\"dataframe\">\n",
       "  <thead>\n",
       "    <tr style=\"text-align: right;\">\n",
       "      <th></th>\n",
       "      <th>source</th>\n",
       "      <th>hyperlink</th>\n",
       "      <th>locality</th>\n",
       "      <th>postcode</th>\n",
       "      <th>house_is</th>\n",
       "      <th>property_subtype</th>\n",
       "      <th>price</th>\n",
       "      <th>sale</th>\n",
       "      <th>rooms_number</th>\n",
       "      <th>area</th>\n",
       "      <th>...</th>\n",
       "      <th>open_fire</th>\n",
       "      <th>terrace</th>\n",
       "      <th>terrace_area</th>\n",
       "      <th>garden</th>\n",
       "      <th>garden_area</th>\n",
       "      <th>land_surface</th>\n",
       "      <th>land_plot_surface</th>\n",
       "      <th>facades_number</th>\n",
       "      <th>swimming_pool_has</th>\n",
       "      <th>building_state</th>\n",
       "    </tr>\n",
       "  </thead>\n",
       "  <tbody>\n",
       "    <tr>\n",
       "      <th>0</th>\n",
       "      <td>6.0</td>\n",
       "      <td>8901695</td>\n",
       "      <td>4180</td>\n",
       "      <td>4180.0</td>\n",
       "      <td>True</td>\n",
       "      <td>MIXED_USE_BUILDING</td>\n",
       "      <td>295000</td>\n",
       "      <td>NaN</td>\n",
       "      <td>3</td>\n",
       "      <td>242</td>\n",
       "      <td>...</td>\n",
       "      <td>False</td>\n",
       "      <td>True</td>\n",
       "      <td>36</td>\n",
       "      <td>True</td>\n",
       "      <td>1000</td>\n",
       "      <td>1403</td>\n",
       "      <td>1403</td>\n",
       "      <td>0</td>\n",
       "      <td>False</td>\n",
       "      <td>GOOD</td>\n",
       "    </tr>\n",
       "    <tr>\n",
       "      <th>1</th>\n",
       "      <td>6.0</td>\n",
       "      <td>8747010</td>\n",
       "      <td>8730</td>\n",
       "      <td>8730.0</td>\n",
       "      <td>True</td>\n",
       "      <td>VILLA</td>\n",
       "      <td>675000</td>\n",
       "      <td>NaN</td>\n",
       "      <td>4</td>\n",
       "      <td>349</td>\n",
       "      <td>...</td>\n",
       "      <td>False</td>\n",
       "      <td>False</td>\n",
       "      <td>0</td>\n",
       "      <td>True</td>\n",
       "      <td>977</td>\n",
       "      <td>1526</td>\n",
       "      <td>1526</td>\n",
       "      <td>0</td>\n",
       "      <td>False</td>\n",
       "      <td>AS_NEW</td>\n",
       "    </tr>\n",
       "    <tr>\n",
       "      <th>2</th>\n",
       "      <td>6.0</td>\n",
       "      <td>8775843</td>\n",
       "      <td>4020</td>\n",
       "      <td>4020.0</td>\n",
       "      <td>True</td>\n",
       "      <td>APARTMENT_BLOCK</td>\n",
       "      <td>250000</td>\n",
       "      <td>NaN</td>\n",
       "      <td>5</td>\n",
       "      <td>303</td>\n",
       "      <td>...</td>\n",
       "      <td>False</td>\n",
       "      <td>False</td>\n",
       "      <td>0</td>\n",
       "      <td>False</td>\n",
       "      <td>0</td>\n",
       "      <td>760</td>\n",
       "      <td>760</td>\n",
       "      <td>0</td>\n",
       "      <td>False</td>\n",
       "      <td>TO_RENOVATE</td>\n",
       "    </tr>\n",
       "    <tr>\n",
       "      <th>3</th>\n",
       "      <td>6.0</td>\n",
       "      <td>8910441</td>\n",
       "      <td>1200</td>\n",
       "      <td>1200.0</td>\n",
       "      <td>True</td>\n",
       "      <td>HOUSE</td>\n",
       "      <td>545000</td>\n",
       "      <td>NaN</td>\n",
       "      <td>4</td>\n",
       "      <td>235</td>\n",
       "      <td>...</td>\n",
       "      <td>False</td>\n",
       "      <td>False</td>\n",
       "      <td>0</td>\n",
       "      <td>False</td>\n",
       "      <td>0</td>\n",
       "      <td>63</td>\n",
       "      <td>63</td>\n",
       "      <td>0</td>\n",
       "      <td>False</td>\n",
       "      <td>JUST_RENOVATED</td>\n",
       "    </tr>\n",
       "    <tr>\n",
       "      <th>4</th>\n",
       "      <td>6.0</td>\n",
       "      <td>8758672</td>\n",
       "      <td>1190</td>\n",
       "      <td>1190.0</td>\n",
       "      <td>True</td>\n",
       "      <td>MIXED_USE_BUILDING</td>\n",
       "      <td>500000</td>\n",
       "      <td>NaN</td>\n",
       "      <td>2</td>\n",
       "      <td>220</td>\n",
       "      <td>...</td>\n",
       "      <td>False</td>\n",
       "      <td>False</td>\n",
       "      <td>0</td>\n",
       "      <td>True</td>\n",
       "      <td>60</td>\n",
       "      <td>193</td>\n",
       "      <td>193</td>\n",
       "      <td>0</td>\n",
       "      <td>False</td>\n",
       "      <td>AS_NEW</td>\n",
       "    </tr>\n",
       "  </tbody>\n",
       "</table>\n",
       "<p>5 rows × 22 columns</p>\n",
       "</div>"
      ],
      "text/plain": [
       "   source  hyperlink  locality  postcode  house_is    property_subtype   \\\n",
       "0      6.0    8901695     4180    4180.0       True  MIXED_USE_BUILDING   \n",
       "1      6.0    8747010     8730    8730.0       True               VILLA   \n",
       "2      6.0    8775843     4020    4020.0       True     APARTMENT_BLOCK   \n",
       "3      6.0    8910441     1200    1200.0       True               HOUSE   \n",
       "4      6.0    8758672     1190    1190.0       True  MIXED_USE_BUILDING   \n",
       "\n",
       "    price sale rooms_number  area   ... open_fire  terrace  terrace_area  \\\n",
       "0  295000  NaN             3   242  ...      False     True           36   \n",
       "1  675000  NaN             4   349  ...      False    False            0   \n",
       "2  250000  NaN             5   303  ...      False    False            0   \n",
       "3  545000  NaN             4   235  ...      False    False            0   \n",
       "4  500000  NaN             2   220  ...      False    False            0   \n",
       "\n",
       "  garden  garden_area land_surface land_plot_surface  facades_number   \\\n",
       "0    True        1000         1403               1403               0   \n",
       "1    True         977         1526               1526               0   \n",
       "2   False           0          760                760               0   \n",
       "3   False           0           63                 63               0   \n",
       "4    True          60          193                193               0   \n",
       "\n",
       "  swimming_pool_has  building_state   \n",
       "0              False            GOOD  \n",
       "1              False          AS_NEW  \n",
       "2              False     TO_RENOVATE  \n",
       "3              False  JUST_RENOVATED  \n",
       "4              False          AS_NEW  \n",
       "\n",
       "[5 rows x 22 columns]"
      ]
     },
     "execution_count": 91,
     "metadata": {},
     "output_type": "execute_result"
    },
    {
     "data": {
      "application/javascript": [
       "\n",
       "            setTimeout(function() {\n",
       "                var nbb_cell_id = 91;\n",
       "                var nbb_unformatted_code = \"df.head()\";\n",
       "                var nbb_formatted_code = \"df.head()\";\n",
       "                var nbb_cells = Jupyter.notebook.get_cells();\n",
       "                for (var i = 0; i < nbb_cells.length; ++i) {\n",
       "                    if (nbb_cells[i].input_prompt_number == nbb_cell_id) {\n",
       "                        if (nbb_cells[i].get_text() == nbb_unformatted_code) {\n",
       "                             nbb_cells[i].set_text(nbb_formatted_code);\n",
       "                        }\n",
       "                        break;\n",
       "                    }\n",
       "                }\n",
       "            }, 500);\n",
       "            "
      ],
      "text/plain": [
       "<IPython.core.display.Javascript object>"
      ]
     },
     "metadata": {},
     "output_type": "display_data"
    }
   ],
   "source": [
    "df.head()"
   ]
  },
  {
   "cell_type": "markdown",
   "metadata": {},
   "source": [
    "## Locality\n",
    "\n",
    "From 87480 entries:\n",
    "\n",
    "    - 1158 are Nan cases (floats)\n",
    "    - 47463 are string made by integers (=could be postcodes; CHECK NUMBER OF CHARS)\n",
    "    - 28436 are non-integers strings\n",
    "    - 5695 are unique entries"
   ]
  },
  {
   "cell_type": "code",
   "execution_count": 128,
   "metadata": {},
   "outputs": [
    {
     "data": {
      "text/plain": [
       "<class 'str'>      75899\n",
       "<class 'float'>    11581\n",
       "Name: locality, dtype: int64"
      ]
     },
     "execution_count": 128,
     "metadata": {},
     "output_type": "execute_result"
    },
    {
     "data": {
      "application/javascript": [
       "\n",
       "            setTimeout(function() {\n",
       "                var nbb_cell_id = 128;\n",
       "                var nbb_unformatted_code = \"# Types within locality\\n\\ndf.locality.apply(type).value_counts()\";\n",
       "                var nbb_formatted_code = \"# Types within locality\\n\\ndf.locality.apply(type).value_counts()\";\n",
       "                var nbb_cells = Jupyter.notebook.get_cells();\n",
       "                for (var i = 0; i < nbb_cells.length; ++i) {\n",
       "                    if (nbb_cells[i].input_prompt_number == nbb_cell_id) {\n",
       "                        if (nbb_cells[i].get_text() == nbb_unformatted_code) {\n",
       "                             nbb_cells[i].set_text(nbb_formatted_code);\n",
       "                        }\n",
       "                        break;\n",
       "                    }\n",
       "                }\n",
       "            }, 500);\n",
       "            "
      ],
      "text/plain": [
       "<IPython.core.display.Javascript object>"
      ]
     },
     "metadata": {},
     "output_type": "display_data"
    }
   ],
   "source": [
    "# Types within locality (Nan are float!)\n",
    "\n",
    "df.locality.apply(type).value_counts()"
   ]
  },
  {
   "cell_type": "code",
   "execution_count": 127,
   "metadata": {},
   "outputs": [
    {
     "data": {
      "text/plain": [
       "11581"
      ]
     },
     "execution_count": 127,
     "metadata": {},
     "output_type": "execute_result"
    },
    {
     "data": {
      "application/javascript": [
       "\n",
       "            setTimeout(function() {\n",
       "                var nbb_cell_id = 127;\n",
       "                var nbb_unformatted_code = \"# Show Nan cases (NANS ARE FLOATS!)\\n\\nlocality_null = pd.isnull(df[\\\"locality\\\"])\\ndf[locality_null]\\n\\n# Count Nan cases\\ndf[\\\"locality\\\"].isna().sum()  # 11581\";\n",
       "                var nbb_formatted_code = \"# Show Nan cases (NANS ARE FLOATS!)\\n\\nlocality_null = pd.isnull(df[\\\"locality\\\"])\\ndf[locality_null]\\n\\n# Count Nan cases\\ndf[\\\"locality\\\"].isna().sum()  # 11581\";\n",
       "                var nbb_cells = Jupyter.notebook.get_cells();\n",
       "                for (var i = 0; i < nbb_cells.length; ++i) {\n",
       "                    if (nbb_cells[i].input_prompt_number == nbb_cell_id) {\n",
       "                        if (nbb_cells[i].get_text() == nbb_unformatted_code) {\n",
       "                             nbb_cells[i].set_text(nbb_formatted_code);\n",
       "                        }\n",
       "                        break;\n",
       "                    }\n",
       "                }\n",
       "            }, 500);\n",
       "            "
      ],
      "text/plain": [
       "<IPython.core.display.Javascript object>"
      ]
     },
     "metadata": {},
     "output_type": "display_data"
    }
   ],
   "source": [
    "# Show Nan cases\n",
    "\n",
    "locality_null = pd.isnull(df[\"locality\"])\n",
    "df[locality_null]\n",
    "\n",
    "# Count Nan cases\n",
    "df[\"locality\"].isna().sum()  # 11581"
   ]
  },
  {
   "cell_type": "code",
   "execution_count": 129,
   "metadata": {},
   "outputs": [
    {
     "data": {
      "text/plain": [
       "5695"
      ]
     },
     "execution_count": 129,
     "metadata": {},
     "output_type": "execute_result"
    },
    {
     "data": {
      "application/javascript": [
       "\n",
       "            setTimeout(function() {\n",
       "                var nbb_cell_id = 129;\n",
       "                var nbb_unformatted_code = \"# Show and count unique cases\\n\\ndf[\\\"locality\\\"].unique()\\ndf[\\\"locality\\\"].nunique()  # 5695\";\n",
       "                var nbb_formatted_code = \"# Show and count unique cases\\n\\ndf[\\\"locality\\\"].unique()\\ndf[\\\"locality\\\"].nunique()  # 5695\";\n",
       "                var nbb_cells = Jupyter.notebook.get_cells();\n",
       "                for (var i = 0; i < nbb_cells.length; ++i) {\n",
       "                    if (nbb_cells[i].input_prompt_number == nbb_cell_id) {\n",
       "                        if (nbb_cells[i].get_text() == nbb_unformatted_code) {\n",
       "                             nbb_cells[i].set_text(nbb_formatted_code);\n",
       "                        }\n",
       "                        break;\n",
       "                    }\n",
       "                }\n",
       "            }, 500);\n",
       "            "
      ],
      "text/plain": [
       "<IPython.core.display.Javascript object>"
      ]
     },
     "metadata": {},
     "output_type": "display_data"
    }
   ],
   "source": [
    "# Show and count unique cases\n",
    "\n",
    "df[\"locality\"].unique()\n",
    "df[\"locality\"].nunique()  # 5695"
   ]
  },
  {
   "cell_type": "code",
   "execution_count": 144,
   "metadata": {},
   "outputs": [
    {
     "data": {
      "text/plain": [
       "28436"
      ]
     },
     "execution_count": 144,
     "metadata": {},
     "output_type": "execute_result"
    },
    {
     "data": {
      "application/javascript": [
       "\n",
       "            setTimeout(function() {\n",
       "                var nbb_cell_id = 144;\n",
       "                var nbb_unformatted_code = \"# All entries are strings\\n\\n# df[\\\"locality\\\"].astype(str).count()  # 87480\\n\\n# Check how many entries consist of integers only\\ndf[\\\"locality\\\"].str.isdigit().sum()  # 47463\\n# Show them\\ndf.loc[df[\\\"locality\\\"].astype(str).str.isdigit(), \\\"locality\\\"]\\n\\n\\n# Number of entries that ARE NOT integers\\ndf.loc[~df[\\\"locality\\\"].astype(str).str.isdigit(), \\\"locality\\\"].count()  # 28436\\n\\n\\n# df.loc[df[\\\"locality\\\"].astype(str).str.isdigit(), \\\"locality\\\"].count()  #  47463\\n\\n# Show entries that ARE made of integers (=postcodes)\\n# df.loc[df[\\\"locality\\\"].astype(str).str.isdigit(), \\\"locality\\\"].to_list()\\n# Count them\\n# df.loc[df[\\\"locality\\\"].astype(str).str.isdigit(), \\\"locality\\\"].count() # 47438\";\n",
       "                var nbb_formatted_code = \"# All entries are strings\\n\\n# df[\\\"locality\\\"].astype(str).count()  # 87480\\n\\n# Check how many entries consist of integers only\\ndf[\\\"locality\\\"].str.isdigit().sum()  # 47463\\n# Show them\\ndf.loc[df[\\\"locality\\\"].astype(str).str.isdigit(), \\\"locality\\\"]\\n\\n\\n# Number of entries that ARE NOT integers\\ndf.loc[~df[\\\"locality\\\"].astype(str).str.isdigit(), \\\"locality\\\"].count()  # 28436\\n\\n\\n# df.loc[df[\\\"locality\\\"].astype(str).str.isdigit(), \\\"locality\\\"].count()  #  47463\\n\\n# Show entries that ARE made of integers (=postcodes)\\n# df.loc[df[\\\"locality\\\"].astype(str).str.isdigit(), \\\"locality\\\"].to_list()\\n# Count them\\n# df.loc[df[\\\"locality\\\"].astype(str).str.isdigit(), \\\"locality\\\"].count() # 47438\";\n",
       "                var nbb_cells = Jupyter.notebook.get_cells();\n",
       "                for (var i = 0; i < nbb_cells.length; ++i) {\n",
       "                    if (nbb_cells[i].input_prompt_number == nbb_cell_id) {\n",
       "                        if (nbb_cells[i].get_text() == nbb_unformatted_code) {\n",
       "                             nbb_cells[i].set_text(nbb_formatted_code);\n",
       "                        }\n",
       "                        break;\n",
       "                    }\n",
       "                }\n",
       "            }, 500);\n",
       "            "
      ],
      "text/plain": [
       "<IPython.core.display.Javascript object>"
      ]
     },
     "metadata": {},
     "output_type": "display_data"
    }
   ],
   "source": [
    "# All entries are strings\n",
    "\n",
    "# df[\"locality\"].astype(str).count()  # 87480\n",
    "\n",
    "# Check how many entries consist of integers only (=postcodes)\n",
    "df[\"locality\"].str.isdigit().sum()  # 47463\n",
    "# Show them\n",
    "df.loc[df[\"locality\"].astype(str).str.isdigit(), \"locality\"]\n",
    "\n",
    "\n",
    "# Number of entries that ARE NOT integers\n",
    "df.loc[~df[\"locality\"].astype(str).str.isdigit(), \"locality\"].count()  # 28436"
   ]
  }
 ],
 "metadata": {
  "kernelspec": {
   "display_name": "Python 3.6.9 64-bit",
   "language": "python",
   "name": "python36964bitff789065851446c2b0e511036948f3ac"
  },
  "language_info": {
   "codemirror_mode": {
    "name": "ipython",
    "version": 3
   },
   "file_extension": ".py",
   "mimetype": "text/x-python",
   "name": "python",
   "nbconvert_exporter": "python",
   "pygments_lexer": "ipython3",
   "version": "3.6.9"
  }
 },
 "nbformat": 4,
 "nbformat_minor": 4
}
