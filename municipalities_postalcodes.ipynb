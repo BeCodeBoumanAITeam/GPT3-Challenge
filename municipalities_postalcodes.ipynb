{
 "cells": [
  {
   "cell_type": "markdown",
   "metadata": {},
   "source": [
    "# Bruxelles"
   ]
  },
  {
   "cell_type": "code",
   "execution_count": 13,
   "metadata": {},
   "outputs": [],
   "source": [
    "from bs4 import BeautifulSoup\n",
    "import requests\n",
    "\n",
    "# Load url, turn into soup and get the <table>s.\n",
    "url = \"https://fr.wikipedia.org/wiki/Liste_des_communes_de_la_r%C3%A9gion_de_Bruxelles-Capitale\"\n",
    "r = requests.get(url).text\n",
    "soup = BeautifulSoup(r, \"html.parser\")\n",
    "tables = soup.find_all(\"table\", class_=\"sortable\")\n",
    "\n",
    "\n",
    "# Useful step when more we need to discriminate among multiple tables\n",
    "'''\n",
    "# Search through the tables for the one with the headings we want.\n",
    "for table in tables:\n",
    "    ths = table.find_all(\"th\")\n",
    "    headings = [th.text.strip() for th in ths]\n",
    "    if headings[:1] == [\"French name\"]:\n",
    "        break'''\n",
    "\n",
    "# Extract the columns we want and write to a semicolon-delimited text file.\n",
    "with open(\"municipalities/Bxl_municipalities.txt\", \"w\") as fo:\n",
    "    for table in tables:\n",
    "        for tr in table.find_all(\"tr\"):\n",
    "            tds = tr.find_all(\"td\")\n",
    "            if not tds:\n",
    "                continue\n",
    "            fr_name, du_name, ville_comm = [td.text.strip() for td in tds[:3]]\n",
    "            print(\"; \".join([fr_name, du_name, ville_comm]), file=fo)"
   ]
  },
  {
   "cell_type": "markdown",
   "metadata": {},
   "source": [
    "# Walloon Region"
   ]
  },
  {
   "cell_type": "code",
   "execution_count": 10,
   "metadata": {},
   "outputs": [],
   "source": [
    "# Load url, turn into soup and get the <table>s.\n",
    "url = \"https://fr.wikipedia.org/wiki/Liste_des_communes_de_la_R%C3%A9gion_wallonne\"\n",
    "r = requests.get(url).text\n",
    "soup = BeautifulSoup(r, \"html.parser\")\n",
    "tables2 = soup.find_all(\"table\", class_=\"sortable\")\n",
    "\n",
    "# Extract the columns we want and write to a semicolon-delimited text file.\n",
    "with open(\"municipalities/Wallon_municipalities.txt\", \"w\") as fo:\n",
    "    for table in tables2:\n",
    "        for tr in table.find_all(\"tr\"):\n",
    "            tds = tr.find_all(\"td\")\n",
    "            if not tds:\n",
    "                continue\n",
    "            fr_name, du_name, ville_comm, province = [td.text.strip() for td in tds[:4]]\n",
    "            print(\"; \".join([fr_name, du_name, ville_comm, province]), file=fo)"
   ]
  },
  {
   "cell_type": "markdown",
   "metadata": {},
   "source": [
    "# Flemish region"
   ]
  },
  {
   "cell_type": "code",
   "execution_count": 11,
   "metadata": {},
   "outputs": [],
   "source": [
    "# Load url, turn into soup and get the <table>s.\n",
    "url = 'https://fr.wikipedia.org/wiki/Liste_des_communes_de_la_R%C3%A9gion_flamande'\n",
    "r = requests.get(url).text\n",
    "soup = BeautifulSoup(r, \"html.parser\")\n",
    "tables3 = soup.find_all(\"table\", class_=\"sortable\")\n",
    "\n",
    "# Extract the columns we want and write to a semicolon-delimited text file.\n",
    "with open(\"municipalities/Flemish_municipalities.txt\", \"w\") as fo:\n",
    "    for table in tables3:\n",
    "        for tr in table.find_all(\"tr\"):\n",
    "            tds = tr.find_all(\"td\")\n",
    "            if not tds:\n",
    "                continue\n",
    "            fr_name, du_name, ville_comm, province = [td.text.strip() for td in tds[:4]]\n",
    "            print(\"; \".join([fr_name, du_name, ville_comm, province]), file=fo)"
   ]
  }
 ],
 "metadata": {
  "kernelspec": {
   "display_name": "Python 3.6.9 64-bit",
   "language": "python",
   "name": "python36964bitff789065851446c2b0e511036948f3ac"
  },
  "language_info": {
   "codemirror_mode": {
    "name": "ipython",
    "version": 3
   },
   "file_extension": ".py",
   "mimetype": "text/x-python",
   "name": "python",
   "nbconvert_exporter": "python",
   "pygments_lexer": "ipython3",
   "version": "3.6.9"
  }
 },
 "nbformat": 4,
 "nbformat_minor": 4
}
