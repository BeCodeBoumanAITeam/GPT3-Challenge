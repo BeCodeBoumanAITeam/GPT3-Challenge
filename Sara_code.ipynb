{
 "cells": [
  {
   "cell_type": "code",
   "execution_count": 1,
   "metadata": {},
   "outputs": [
    {
     "data": {
      "application/javascript": [
       "\n",
       "            setTimeout(function() {\n",
       "                var nbb_cell_id = 1;\n",
       "                var nbb_unformatted_code = \"%load_ext nb_black\\nimport pandas as pd\\nimport numpy as np\\nimport regex as re\";\n",
       "                var nbb_formatted_code = \"%load_ext nb_black\\nimport pandas as pd\\nimport numpy as np\\nimport regex as re\";\n",
       "                var nbb_cells = Jupyter.notebook.get_cells();\n",
       "                for (var i = 0; i < nbb_cells.length; ++i) {\n",
       "                    if (nbb_cells[i].input_prompt_number == nbb_cell_id) {\n",
       "                        if (nbb_cells[i].get_text() == nbb_unformatted_code) {\n",
       "                             nbb_cells[i].set_text(nbb_formatted_code);\n",
       "                        }\n",
       "                        break;\n",
       "                    }\n",
       "                }\n",
       "            }, 500);\n",
       "            "
      ],
      "text/plain": [
       "<IPython.core.display.Javascript object>"
      ]
     },
     "metadata": {},
     "output_type": "display_data"
    }
   ],
   "source": [
    "%load_ext nb_black\n",
    "import pandas as pd\n",
    "import numpy as np\n",
    "import regex as re"
   ]
  },
  {
   "cell_type": "code",
   "execution_count": 2,
   "metadata": {},
   "outputs": [
    {
     "name": "stderr",
     "output_type": "stream",
     "text": [
      "/home/sara/.local/lib/python3.6/site-packages/IPython/core/interactiveshell.py:3263: DtypeWarning: Columns (11,12,16,17,18,19) have mixed types.Specify dtype option on import or set low_memory=False.\n",
      "  if (await self.run_code(code, result,  async_=asy)):\n"
     ]
    },
    {
     "data": {
      "text/html": [
       "<div>\n",
       "<style scoped>\n",
       "    .dataframe tbody tr th:only-of-type {\n",
       "        vertical-align: middle;\n",
       "    }\n",
       "\n",
       "    .dataframe tbody tr th {\n",
       "        vertical-align: top;\n",
       "    }\n",
       "\n",
       "    .dataframe thead th {\n",
       "        text-align: right;\n",
       "    }\n",
       "</style>\n",
       "<table border=\"1\" class=\"dataframe\">\n",
       "  <thead>\n",
       "    <tr style=\"text-align: right;\">\n",
       "      <th></th>\n",
       "      <th>locality</th>\n",
       "      <th>postcode</th>\n",
       "      <th>kitchen_has</th>\n",
       "      <th>furnished</th>\n",
       "      <th>facades_number</th>\n",
       "    </tr>\n",
       "  </thead>\n",
       "  <tbody>\n",
       "    <tr>\n",
       "      <th>0</th>\n",
       "      <td>4180</td>\n",
       "      <td>4180.0</td>\n",
       "      <td>True</td>\n",
       "      <td>False</td>\n",
       "      <td>0</td>\n",
       "    </tr>\n",
       "    <tr>\n",
       "      <th>1</th>\n",
       "      <td>8730</td>\n",
       "      <td>8730.0</td>\n",
       "      <td>True</td>\n",
       "      <td>False</td>\n",
       "      <td>0</td>\n",
       "    </tr>\n",
       "    <tr>\n",
       "      <th>2</th>\n",
       "      <td>4020</td>\n",
       "      <td>4020.0</td>\n",
       "      <td>True</td>\n",
       "      <td>False</td>\n",
       "      <td>0</td>\n",
       "    </tr>\n",
       "    <tr>\n",
       "      <th>3</th>\n",
       "      <td>1200</td>\n",
       "      <td>1200.0</td>\n",
       "      <td>True</td>\n",
       "      <td>True</td>\n",
       "      <td>0</td>\n",
       "    </tr>\n",
       "    <tr>\n",
       "      <th>4</th>\n",
       "      <td>1190</td>\n",
       "      <td>1190.0</td>\n",
       "      <td>True</td>\n",
       "      <td>False</td>\n",
       "      <td>0</td>\n",
       "    </tr>\n",
       "  </tbody>\n",
       "</table>\n",
       "</div>"
      ],
      "text/plain": [
       "  locality  postcode kitchen_has furnished facades_number\n",
       "0     4180    4180.0        True     False              0\n",
       "1     8730    8730.0        True     False              0\n",
       "2     4020    4020.0        True     False              0\n",
       "3     1200    1200.0        True      True              0\n",
       "4     1190    1190.0        True     False              0"
      ]
     },
     "execution_count": 2,
     "metadata": {},
     "output_type": "execute_result"
    },
    {
     "data": {
      "application/javascript": [
       "\n",
       "            setTimeout(function() {\n",
       "                var nbb_cell_id = 2;\n",
       "                var nbb_unformatted_code = \"data = \\\"datasets/challenge_dataset\\\"\\nimmo_eliza = pd.read_table(data, sep=\\\",\\\")\\ndf = immo_eliza[[\\\"locality\\\", \\\"postcode\\\", \\\"kitchen_has\\\", \\\"furnished\\\", \\\"facades_number\\\"]]\\ndf.head()\";\n",
       "                var nbb_formatted_code = \"data = \\\"datasets/challenge_dataset\\\"\\nimmo_eliza = pd.read_table(data, sep=\\\",\\\")\\ndf = immo_eliza[[\\\"locality\\\", \\\"postcode\\\", \\\"kitchen_has\\\", \\\"furnished\\\", \\\"facades_number\\\"]]\\ndf.head()\";\n",
       "                var nbb_cells = Jupyter.notebook.get_cells();\n",
       "                for (var i = 0; i < nbb_cells.length; ++i) {\n",
       "                    if (nbb_cells[i].input_prompt_number == nbb_cell_id) {\n",
       "                        if (nbb_cells[i].get_text() == nbb_unformatted_code) {\n",
       "                             nbb_cells[i].set_text(nbb_formatted_code);\n",
       "                        }\n",
       "                        break;\n",
       "                    }\n",
       "                }\n",
       "            }, 500);\n",
       "            "
      ],
      "text/plain": [
       "<IPython.core.display.Javascript object>"
      ]
     },
     "metadata": {},
     "output_type": "display_data"
    }
   ],
   "source": [
    "data = \"datasets/challenge_dataset\"\n",
    "immo_eliza = pd.read_table(data, sep=\",\")\n",
    "df = immo_eliza[[\"locality\", \"postcode\", \"kitchen_has\", \"furnished\", \"facades_number\"]]\n",
    "df.head()"
   ]
  },
  {
   "cell_type": "markdown",
   "metadata": {},
   "source": [
    "# Functions"
   ]
  },
  {
   "cell_type": "code",
   "execution_count": 3,
   "metadata": {},
   "outputs": [
    {
     "data": {
      "application/javascript": [
       "\n",
       "            setTimeout(function() {\n",
       "                var nbb_cell_id = 3;\n",
       "                var nbb_unformatted_code = \"# Postcodes\\n\\n\\ndef postcodes_fun():\\n    \\\"This function extracts postcodes from locality and adds them into null postcodes\\\"\\n    # Show number of nan values in postcode\\n    print(df.postcode.isnull().sum())\\n\\n    # Extract postcodes from locality and add them to postcode column\\n    df[\\\"loc_code\\\"] = df[\\\"locality\\\"].str.extract(r\\\"(\\\\b[0-9]{4}\\\\b)\\\")\\n    df.loc[df.postcode.isnull(), \\\"postcode\\\"] = df.loc_code\\n\\n    # Delete dummy column\\n    del df[\\\"loc_code\\\"]\\n\\n    # Show number of nan values (to see the difference)\\n    print(df.postcode.isnull().sum())\\n    return df[\\\"postcode\\\"]\\n\\n\\ndef bool_to_bin(x, final_type):\\n    df[x] = df[x].astype(str)\\n    df[x] = df[x].map({\\\"False\\\": 0, \\\"True\\\": 1, \\\"nan\\\": 2})\\n    df[x].fillna(2, inplace=True)\\n    df[x] = df[x].astype(final_type)\\n    return df[x]\\n\\n\\ndef facades_num():\\n    df[\\\"facades_number\\\"] = df[\\\"facades_number\\\"].apply(str)\\n    df.facades_number.replace(\\\"(\\\\.0)\\\", \\\"\\\", regex=True, inplace=True)\\n    df[\\\"facades_number\\\"] = df.facades_number.replace(\\n        [\\\"nan\\\", \\\"None\\\"], -999\\n    )  # maybe treat 0 as -999 too?\\n    df[\\\"facades_number\\\"] = df[\\\"facades_number\\\"].astype(int)\\n    return df[\\\"facades_number\\\"]\";\n",
       "                var nbb_formatted_code = \"# Postcodes\\n\\n\\ndef postcodes_fun():\\n    \\\"This function extracts postcodes from locality and adds them into null postcodes\\\"\\n    # Show number of nan values in postcode\\n    print(df.postcode.isnull().sum())\\n\\n    # Extract postcodes from locality and add them to postcode column\\n    df[\\\"loc_code\\\"] = df[\\\"locality\\\"].str.extract(r\\\"(\\\\b[0-9]{4}\\\\b)\\\")\\n    df.loc[df.postcode.isnull(), \\\"postcode\\\"] = df.loc_code\\n\\n    # Delete dummy column\\n    del df[\\\"loc_code\\\"]\\n\\n    # Show number of nan values (to see the difference)\\n    print(df.postcode.isnull().sum())\\n    return df[\\\"postcode\\\"]\\n\\n\\ndef bool_to_bin(x, final_type):\\n    df[x] = df[x].astype(str)\\n    df[x] = df[x].map({\\\"False\\\": 0, \\\"True\\\": 1, \\\"nan\\\": 2})\\n    df[x].fillna(2, inplace=True)\\n    df[x] = df[x].astype(final_type)\\n    return df[x]\\n\\n\\ndef facades_num():\\n    df[\\\"facades_number\\\"] = df[\\\"facades_number\\\"].apply(str)\\n    df.facades_number.replace(\\\"(\\\\.0)\\\", \\\"\\\", regex=True, inplace=True)\\n    df[\\\"facades_number\\\"] = df.facades_number.replace(\\n        [\\\"nan\\\", \\\"None\\\"], -999\\n    )  # maybe treat 0 as -999 too?\\n    df[\\\"facades_number\\\"] = df[\\\"facades_number\\\"].astype(int)\\n    return df[\\\"facades_number\\\"]\";\n",
       "                var nbb_cells = Jupyter.notebook.get_cells();\n",
       "                for (var i = 0; i < nbb_cells.length; ++i) {\n",
       "                    if (nbb_cells[i].input_prompt_number == nbb_cell_id) {\n",
       "                        if (nbb_cells[i].get_text() == nbb_unformatted_code) {\n",
       "                             nbb_cells[i].set_text(nbb_formatted_code);\n",
       "                        }\n",
       "                        break;\n",
       "                    }\n",
       "                }\n",
       "            }, 500);\n",
       "            "
      ],
      "text/plain": [
       "<IPython.core.display.Javascript object>"
      ]
     },
     "metadata": {},
     "output_type": "display_data"
    }
   ],
   "source": [
    "def postcodes_fun():\n",
    "    \"This function extracts postcodes from locality and adds them into null postcodes\"\n",
    "    # Show number of nan values in postcode\n",
    "    print(df.postcode.isnull().sum())\n",
    "\n",
    "    # Extract postcodes from locality and add them to postcode column\n",
    "    df[\"loc_code\"] = df[\"locality\"].str.extract(r\"(\\b[0-9]{4}\\b)\")\n",
    "    df.loc[df.postcode.isnull(), \"postcode\"] = df.loc_code\n",
    "\n",
    "    # Delete dummy column\n",
    "    del df[\"loc_code\"]\n",
    "\n",
    "    # Show number of nan values (to see the difference)\n",
    "    print(df.postcode.isnull().sum())\n",
    "    return df[\"postcode\"]\n",
    "\n",
    "\n",
    "def bool_to_bin(x, final_type):\n",
    "    df[x] = df[x].astype(str)\n",
    "    df[x] = df[x].map({\"False\": 0, \"True\": 1, \"nan\": 2})\n",
    "    df[x].fillna(2, inplace=True)\n",
    "    df[x] = df[x].astype(final_type)\n",
    "    return df[x]\n",
    "\n",
    "\n",
    "def facades_num():\n",
    "    df[\"facades_number\"] = df[\"facades_number\"].apply(str)\n",
    "    df.facades_number.replace(\"(\\.0)\", \"\", regex=True, inplace=True)\n",
    "    df[\"facades_number\"] = df.facades_number.replace(\n",
    "        [\"nan\", \"None\", 0], -999\n",
    "    )  # maybe treat 0 as -999 too?\n",
    "    df[\"facades_number\"] = df[\"facades_number\"].astype(int)\n",
    "    return df[\"facades_number\"]"
   ]
  },
  {
   "cell_type": "code",
   "execution_count": 4,
   "metadata": {},
   "outputs": [
    {
     "name": "stdout",
     "output_type": "stream",
     "text": [
      "7412\n",
      "5764\n"
     ]
    },
    {
     "name": "stderr",
     "output_type": "stream",
     "text": [
      "/home/sara/.local/lib/python3.6/site-packages/ipykernel_launcher.py:10: SettingWithCopyWarning: \n",
      "A value is trying to be set on a copy of a slice from a DataFrame.\n",
      "Try using .loc[row_indexer,col_indexer] = value instead\n",
      "\n",
      "See the caveats in the documentation: https://pandas.pydata.org/pandas-docs/stable/user_guide/indexing.html#returning-a-view-versus-a-copy\n",
      "  # Remove the CWD from sys.path while we load stuff.\n",
      "/home/sara/.local/lib/python3.6/site-packages/pandas/core/indexing.py:1745: SettingWithCopyWarning: \n",
      "A value is trying to be set on a copy of a slice from a DataFrame.\n",
      "Try using .loc[row_indexer,col_indexer] = value instead\n",
      "\n",
      "See the caveats in the documentation: https://pandas.pydata.org/pandas-docs/stable/user_guide/indexing.html#returning-a-view-versus-a-copy\n",
      "  isetter(ilocs[0], value)\n",
      "/home/sara/.local/lib/python3.6/site-packages/ipykernel_launcher.py:1: SettingWithCopyWarning: \n",
      "A value is trying to be set on a copy of a slice from a DataFrame.\n",
      "Try using .loc[row_indexer,col_indexer] = value instead\n",
      "\n",
      "See the caveats in the documentation: https://pandas.pydata.org/pandas-docs/stable/user_guide/indexing.html#returning-a-view-versus-a-copy\n",
      "  \"\"\"Entry point for launching an IPython kernel.\n",
      "/home/sara/.local/lib/python3.6/site-packages/ipykernel_launcher.py:22: SettingWithCopyWarning: \n",
      "A value is trying to be set on a copy of a slice from a DataFrame.\n",
      "Try using .loc[row_indexer,col_indexer] = value instead\n",
      "\n",
      "See the caveats in the documentation: https://pandas.pydata.org/pandas-docs/stable/user_guide/indexing.html#returning-a-view-versus-a-copy\n",
      "/home/sara/.local/lib/python3.6/site-packages/ipykernel_launcher.py:23: SettingWithCopyWarning: \n",
      "A value is trying to be set on a copy of a slice from a DataFrame.\n",
      "Try using .loc[row_indexer,col_indexer] = value instead\n",
      "\n",
      "See the caveats in the documentation: https://pandas.pydata.org/pandas-docs/stable/user_guide/indexing.html#returning-a-view-versus-a-copy\n",
      "/home/sara/.local/lib/python3.6/site-packages/pandas/core/series.py:4523: SettingWithCopyWarning: \n",
      "A value is trying to be set on a copy of a slice from a DataFrame\n",
      "\n",
      "See the caveats in the documentation: https://pandas.pydata.org/pandas-docs/stable/user_guide/indexing.html#returning-a-view-versus-a-copy\n",
      "  downcast=downcast,\n",
      "/home/sara/.local/lib/python3.6/site-packages/ipykernel_launcher.py:25: SettingWithCopyWarning: \n",
      "A value is trying to be set on a copy of a slice from a DataFrame.\n",
      "Try using .loc[row_indexer,col_indexer] = value instead\n",
      "\n",
      "See the caveats in the documentation: https://pandas.pydata.org/pandas-docs/stable/user_guide/indexing.html#returning-a-view-versus-a-copy\n",
      "/home/sara/.local/lib/python3.6/site-packages/ipykernel_launcher.py:2: SettingWithCopyWarning: \n",
      "A value is trying to be set on a copy of a slice from a DataFrame.\n",
      "Try using .loc[row_indexer,col_indexer] = value instead\n",
      "\n",
      "See the caveats in the documentation: https://pandas.pydata.org/pandas-docs/stable/user_guide/indexing.html#returning-a-view-versus-a-copy\n",
      "  \n",
      "/home/sara/.local/lib/python3.6/site-packages/ipykernel_launcher.py:3: SettingWithCopyWarning: \n",
      "A value is trying to be set on a copy of a slice from a DataFrame.\n",
      "Try using .loc[row_indexer,col_indexer] = value instead\n",
      "\n",
      "See the caveats in the documentation: https://pandas.pydata.org/pandas-docs/stable/user_guide/indexing.html#returning-a-view-versus-a-copy\n",
      "  This is separate from the ipykernel package so we can avoid doing imports until\n",
      "/home/sara/.local/lib/python3.6/site-packages/ipykernel_launcher.py:30: SettingWithCopyWarning: \n",
      "A value is trying to be set on a copy of a slice from a DataFrame.\n",
      "Try using .loc[row_indexer,col_indexer] = value instead\n",
      "\n",
      "See the caveats in the documentation: https://pandas.pydata.org/pandas-docs/stable/user_guide/indexing.html#returning-a-view-versus-a-copy\n",
      "/home/sara/.local/lib/python3.6/site-packages/pandas/core/series.py:4569: SettingWithCopyWarning: \n",
      "A value is trying to be set on a copy of a slice from a DataFrame\n",
      "\n",
      "See the caveats in the documentation: https://pandas.pydata.org/pandas-docs/stable/user_guide/indexing.html#returning-a-view-versus-a-copy\n",
      "  method=method,\n",
      "/home/sara/.local/lib/python3.6/site-packages/ipykernel_launcher.py:33: SettingWithCopyWarning: \n",
      "A value is trying to be set on a copy of a slice from a DataFrame.\n",
      "Try using .loc[row_indexer,col_indexer] = value instead\n",
      "\n",
      "See the caveats in the documentation: https://pandas.pydata.org/pandas-docs/stable/user_guide/indexing.html#returning-a-view-versus-a-copy\n",
      "/home/sara/.local/lib/python3.6/site-packages/ipykernel_launcher.py:35: SettingWithCopyWarning: \n",
      "A value is trying to be set on a copy of a slice from a DataFrame.\n",
      "Try using .loc[row_indexer,col_indexer] = value instead\n",
      "\n",
      "See the caveats in the documentation: https://pandas.pydata.org/pandas-docs/stable/user_guide/indexing.html#returning-a-view-versus-a-copy\n",
      "/home/sara/.local/lib/python3.6/site-packages/ipykernel_launcher.py:4: SettingWithCopyWarning: \n",
      "A value is trying to be set on a copy of a slice from a DataFrame.\n",
      "Try using .loc[row_indexer,col_indexer] = value instead\n",
      "\n",
      "See the caveats in the documentation: https://pandas.pydata.org/pandas-docs/stable/user_guide/indexing.html#returning-a-view-versus-a-copy\n",
      "  after removing the cwd from sys.path.\n"
     ]
    },
    {
     "data": {
      "application/javascript": [
       "\n",
       "            setTimeout(function() {\n",
       "                var nbb_cell_id = 4;\n",
       "                var nbb_unformatted_code = \"df[\\\"postcode\\\"] = postcodes_fun()\\ndf[\\\"furnished\\\"] = bool_to_bin(\\\"furnished\\\", int)\\ndf[\\\"kitchen_has\\\"] = bool_to_bin(\\\"kitchen_has\\\", int)\\ndf[\\\"facades_number\\\"] = facades_num()\";\n",
       "                var nbb_formatted_code = \"df[\\\"postcode\\\"] = postcodes_fun()\\ndf[\\\"furnished\\\"] = bool_to_bin(\\\"furnished\\\", int)\\ndf[\\\"kitchen_has\\\"] = bool_to_bin(\\\"kitchen_has\\\", int)\\ndf[\\\"facades_number\\\"] = facades_num()\";\n",
       "                var nbb_cells = Jupyter.notebook.get_cells();\n",
       "                for (var i = 0; i < nbb_cells.length; ++i) {\n",
       "                    if (nbb_cells[i].input_prompt_number == nbb_cell_id) {\n",
       "                        if (nbb_cells[i].get_text() == nbb_unformatted_code) {\n",
       "                             nbb_cells[i].set_text(nbb_formatted_code);\n",
       "                        }\n",
       "                        break;\n",
       "                    }\n",
       "                }\n",
       "            }, 500);\n",
       "            "
      ],
      "text/plain": [
       "<IPython.core.display.Javascript object>"
      ]
     },
     "metadata": {},
     "output_type": "display_data"
    }
   ],
   "source": [
    "df[\"postcode\"] = postcodes_fun()\n",
    "df[\"furnished\"] = bool_to_bin(\"furnished\", int)\n",
    "df[\"kitchen_has\"] = bool_to_bin(\"kitchen_has\", int)\n",
    "df[\"facades_number\"] = facades_num()"
   ]
  }
 ],
 "metadata": {
  "kernelspec": {
   "display_name": "Python 3.6.9 64-bit",
   "language": "python",
   "name": "python36964bitff789065851446c2b0e511036948f3ac"
  },
  "language_info": {
   "codemirror_mode": {
    "name": "ipython",
    "version": 3
   },
   "file_extension": ".py",
   "mimetype": "text/x-python",
   "name": "python",
   "nbconvert_exporter": "python",
   "pygments_lexer": "ipython3",
   "version": "3.6.9"
  }
 },
 "nbformat": 4,
 "nbformat_minor": 4
}
